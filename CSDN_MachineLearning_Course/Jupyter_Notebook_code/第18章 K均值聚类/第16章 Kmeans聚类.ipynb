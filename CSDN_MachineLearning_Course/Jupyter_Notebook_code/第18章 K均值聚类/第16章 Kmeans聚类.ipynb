{
 "cells": [
  {
   "cell_type": "code",
   "execution_count": null,
   "metadata": {},
   "outputs": [],
   "source": [
    "# 导入第三方包\n",
    "import pandas as pd\n",
    "import numpy as np  \n",
    "import matplotlib.pyplot as plt\n",
    "from sklearn.cluster import KMeans\n",
    "from sklearn import metrics\n",
    "\n",
    "# 随机生成三组二元正态分布随机数 \n",
    "np.random.seed(1234)\n",
    "mean1 = [0.5, 0.5]\n",
    "cov1 = [[0.3, 0], [0, 0.3]]\n",
    "x1, y1 = np.random.multivariate_normal(mean1, cov1, 1000).T\n",
    "\n",
    "mean2 = [0, 8]\n",
    "cov2 = [[1.5, 0], [0, 1]]\n",
    "x2, y2 = np.random.multivariate_normal(mean2, cov2, 1000).T\n",
    "\n",
    "mean3 = [8, 4]\n",
    "cov3 = [[1.5, 0], [0, 1]]\n",
    "x3, y3 = np.random.multivariate_normal(mean3, cov3, 1000).T\n",
    "\n",
    "# 绘制三组数据的散点图\n",
    "plt.scatter(x1,y1)\n",
    "plt.scatter(x2,y2)\n",
    "plt.scatter(x3,y3)\n",
    "# 显示图形\n",
    "plt.show()"
   ]
  },
  {
   "cell_type": "code",
   "execution_count": null,
   "metadata": {},
   "outputs": [],
   "source": [
    "# 构造自定义函数，用于绘制不同k值和对应总的簇内离差平方和的折线图\n",
    "def k_SSE(X, clusters):\n",
    "    # 选择连续的K种不同的值\n",
    "    K = range(1,clusters+1)\n",
    "    # 构建空列表用于存储总的簇内离差平方和\n",
    "    TSSE = []\n",
    "    for k in K:\n",
    "        # 用于存储各个簇内离差平方和\n",
    "        SSE = []\n",
    "        kmeans = KMeans(n_clusters=k)\n",
    "        kmeans.fit(X)\n",
    "        # 返回簇标签\n",
    "        labels = kmeans.labels_\n",
    "        # 返回簇中心\n",
    "        centers = kmeans.cluster_centers_\n",
    "        # 计算各簇样本的离差平方和，并保存到列表中\n",
    "        for label in set(labels):\n",
    "            SSE.append(np.sum((X.loc[labels == label,]-centers[label,:])**2))\n",
    "        # 计算总的簇内离差平方和 \n",
    "        TSSE.append(np.sum(SSE))\n",
    "\n",
    "    # 中文和负号的正常显示\n",
    "    plt.rcParams['font.sans-serif'] = ['Microsoft YaHei']\n",
    "    plt.rcParams['axes.unicode_minus'] = False\n",
    "    # 设置绘图风格\n",
    "    plt.style.use('ggplot')\n",
    "    # 绘制K的个数与GSSE的关系\n",
    "    plt.plot(K, TSSE, 'b*-')\n",
    "    plt.xlabel('簇的个数')\n",
    "    plt.ylabel('簇内离差平方和之和')\n",
    "    # 显示图形\n",
    "    plt.show()\n",
    "\n",
    "# 将三组数据集汇总到数据框中\n",
    "X = pd.DataFrame(np.concatenate([np.array([x1,y1]),np.array([x2,y2]),np.array([x3,y3])], axis = 1).T)\n",
    "# 自定义函数的调用\n",
    "k_SSE(X, 15)"
   ]
  },
  {
   "cell_type": "code",
   "execution_count": null,
   "metadata": {},
   "outputs": [],
   "source": [
    "# 构造自定义函数，用于绘制不同k值和对应轮廓系数的折线图\n",
    "def k_silhouette(X, clusters):\n",
    "    K = range(2,clusters+1)\n",
    "    # 构建空列表，用于存储个中簇数下的轮廓系数\n",
    "    S = []\n",
    "    for k in K:\n",
    "        kmeans = KMeans(n_clusters=k)\n",
    "        kmeans.fit(X)\n",
    "        labels = kmeans.labels_\n",
    "        # 调用字模块metrics中的silhouette_score函数，计算轮廓系数\n",
    "        S.append(metrics.silhouette_score(X, labels, metric='euclidean'))\n",
    "\n",
    "    # 中文和负号的正常显示\n",
    "    plt.rcParams['font.sans-serif'] = ['Microsoft YaHei']\n",
    "    plt.rcParams['axes.unicode_minus'] = False\n",
    "    # 设置绘图风格\n",
    "    plt.style.use('ggplot')    \n",
    "    # 绘制K的个数与轮廓系数的关系\n",
    "    plt.plot(K, S, 'b*-')\n",
    "    plt.xlabel('簇的个数')\n",
    "    plt.ylabel('轮廓系数')\n",
    "    # 显示图形\n",
    "    plt.show()\n",
    "    \n",
    "# 自定义函数的调用\n",
    "k_silhouette(X, 15)"
   ]
  },
  {
   "cell_type": "code",
   "execution_count": null,
   "metadata": {},
   "outputs": [],
   "source": []
  },
  {
   "cell_type": "code",
   "execution_count": null,
   "metadata": {},
   "outputs": [],
   "source": [
    "# 读取iris数据集\n",
    "iris = pd.read_csv(r'iris.csv')\n",
    "# 查看数据集的前几行\n",
    "iris.head()"
   ]
  },
  {
   "cell_type": "code",
   "execution_count": null,
   "metadata": {},
   "outputs": [],
   "source": [
    "# 提取出用于建模的数据集X\n",
    "X = iris.drop(labels = 'Species', axis = 1)\n",
    "# 构建Kmeans模型\n",
    "kmeans = KMeans(n_clusters = 3)\n",
    "kmeans.fit(X)\n",
    "# 聚类结果标签\n",
    "X['cluster'] = kmeans.labels_\n",
    "# 各类频数统计\n",
    "X.cluster.value_counts()"
   ]
  },
  {
   "cell_type": "code",
   "execution_count": null,
   "metadata": {},
   "outputs": [],
   "source": [
    "# 导入第三方模块\n",
    "import seaborn as sns\n",
    "\n",
    "# 三个簇的簇中心\n",
    "centers = kmeans.cluster_centers_\n",
    "# 绘制聚类效果的散点图\n",
    "sns.lmplot(x = 'Petal_Length', y = 'Petal_Width', hue = 'cluster', markers = ['^','s','o'], \n",
    "           data = X, fit_reg = False, scatter_kws = {'alpha':0.8}, legend_out = False)\n",
    "plt.scatter(centers[:,2], centers[:,3], marker = '*', color = 'black', s = 130)\n",
    "plt.xlabel('花瓣长度')\n",
    "plt.ylabel('花瓣宽度')\n",
    "# 图形显示\n",
    "plt.show()"
   ]
  },
  {
   "cell_type": "code",
   "execution_count": null,
   "metadata": {},
   "outputs": [],
   "source": [
    "# 增加一个辅助列，将不同的花种映射到0,1,2三种值，目的方便后面图形的对比\n",
    "iris['Species_map'] = iris.Species.map({'virginica':0,'setosa':1,'versicolor':2})\n",
    "# 绘制原始数据三个类别的散点图\n",
    "sns.lmplot(x = 'Petal_Length', y = 'Petal_Width', hue = 'Species_map', data = iris, markers = ['^','s','o'],\n",
    "           fit_reg = False, scatter_kws = {'alpha':0.8}, legend_out = False)\n",
    "plt.xlabel('花瓣长度')\n",
    "plt.ylabel('花瓣宽度')\n",
    "# 图形显示\n",
    "plt.show()"
   ]
  },
  {
   "cell_type": "code",
   "execution_count": null,
   "metadata": {},
   "outputs": [],
   "source": [
    "# 读取球员数据\n",
    "players = pd.read_csv(r'players.csv')\n",
    "players.head()"
   ]
  },
  {
   "cell_type": "code",
   "execution_count": null,
   "metadata": {},
   "outputs": [],
   "source": [
    "# 绘制得分与命中率的散点图\n",
    "sns.lmplot(x = '得分', y = '命中率', data = players, \n",
    "           fit_reg = False, scatter_kws = {'alpha':0.8, 'color': 'steelblue'})\n",
    "plt.show()"
   ]
  },
  {
   "cell_type": "code",
   "execution_count": null,
   "metadata": {},
   "outputs": [],
   "source": [
    "from sklearn import preprocessing\n",
    "# 数据标准化处理\n",
    "X = preprocessing.minmax_scale(players[['得分','罚球命中率','命中率','三分命中率']])\n",
    "# 将数组转换为数据框\n",
    "X = pd.DataFrame(X, columns=['得分','罚球命中率','命中率','三分命中率'])\n",
    "# 使用拐点法选择最佳的K值\n",
    "k_SSE(X, 15)"
   ]
  },
  {
   "cell_type": "code",
   "execution_count": null,
   "metadata": {},
   "outputs": [],
   "source": [
    "# 使用轮廓系数选择最佳的K值\n",
    "k_silhouette(X, 10)"
   ]
  },
  {
   "cell_type": "code",
   "execution_count": null,
   "metadata": {},
   "outputs": [],
   "source": [
    "# 将球员数据集聚为3类\n",
    "kmeans = KMeans(n_clusters = 3)\n",
    "kmeans.fit(X)\n",
    "# 将聚类结果标签插入到数据集players中\n",
    "players['cluster'] = kmeans.labels_\n",
    "# 构建空列表，用于存储三个簇的簇中心\n",
    "centers = []\n",
    "for i in players.cluster.unique():\n",
    "    centers.append(players.ix[players.cluster == i,['得分','罚球命中率','命中率','三分命中率']].mean())\n",
    "# 将列表转换为数组，便于后面的索引取数\n",
    "centers = np.array(centers)\n",
    "\n",
    "# 绘制散点图\n",
    "sns.lmplot(x = '得分', y = '命中率', hue = 'cluster', data = players, markers = ['^','s','o'],\n",
    "           fit_reg = False, scatter_kws = {'alpha':0.8}, legend = False)\n",
    "# 添加簇中心\n",
    "plt.scatter(centers[:,0], centers[:,2], c='k', marker = '*', s = 180)\n",
    "plt.xlabel('得分')\n",
    "plt.ylabel('命中率')\n",
    "# 图形显示\n",
    "plt.show()"
   ]
  },
  {
   "cell_type": "code",
   "execution_count": null,
   "metadata": {},
   "outputs": [],
   "source": []
  }
 ],
 "metadata": {
  "anaconda-cloud": {},
  "kernelspec": {
   "display_name": "Python 3",
   "language": "python",
   "name": "python3"
  },
  "language_info": {
   "codemirror_mode": {
    "name": "ipython",
    "version": 3
   },
   "file_extension": ".py",
   "mimetype": "text/x-python",
   "name": "python",
   "nbconvert_exporter": "python",
   "pygments_lexer": "ipython3",
   "version": "3.7.4"
  }
 },
 "nbformat": 4,
 "nbformat_minor": 1
}
